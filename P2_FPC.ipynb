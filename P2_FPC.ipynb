{
 "cells": [
  {
   "cell_type": "markdown",
   "metadata": {},
   "source": [
    "EJERCICIO PRÁCTICO\n",
    "\n",
    "1 Diseñe una aplicación para obtener datos de sitios web en internet a través de peticiones de tipo \"GET\". El sitio web envía una respuesta luego de que se le hace una petición GET, de dicha respuesta se debe extraer cierta información detallada del sitio tal como: el servidor en el que está alojado el sitio, el tipo de codificación del contenido, el tipo de contenido, la IP pública del sitio, etc. La información recopilada debe ser almacenada de forma que se pueda disponer de ella a través de una persistencia (base de datos, almacenamiento físico, etc), es decir que la información se debe encapsular en cierto tipo de objetos definidos por el usuario."
   ]
  },
  {
   "cell_type": "code",
   "execution_count": 40,
   "metadata": {},
   "outputs": [],
   "source": [
    "import requests as r\n",
    "import socket\n",
    "class Requester:\n",
    "    def __init__ (self, sitio):\n",
    "        a=r.get(\"http://\"+sitio)\n",
    "        ip=socket.gethostbyname(sitio)\n",
    "        try:\n",
    "            self.__server=a.headers['Server']\n",
    "        except:\n",
    "            self.__server='Server: Unknown'\n",
    "        \n",
    "        try:\n",
    "            self.__content_type=a.headers['Content-Type']\n",
    "        except:\n",
    "            self.__server='Content-Type: Unknown'\n",
    "            \n",
    "        try:\n",
    "            self.__ip=ip\n",
    "        except:\n",
    "             self.__server='IP: Unknown'\n",
    "              \n",
    "        try:\n",
    "            self.__encoding=a.encoding\n",
    "        except:\n",
    "            self.__server='Encoding: Unknown'\n",
    "       \n",
    "        \n",
    "        \n",
    "    def showInfo(self):\n",
    "        print(self.__ip)\n",
    "        print(self.__server)\n",
    "        print(self.__encoding)\n",
    "        print(self.__content_type)\n",
    "        print(\" \")"
   ]
  },
  {
   "cell_type": "code",
   "execution_count": 41,
   "metadata": {},
   "outputs": [
    {
     "name": "stdout",
     "output_type": "stream",
     "text": [
      "200.24.17.25\n",
      "Server: Unknown\n",
      "UTF-8\n",
      "text/html; charset=UTF-8\n",
      " \n",
      "216.58.222.196\n",
      "gws\n",
      "ISO-8859-1\n",
      "text/html; charset=ISO-8859-1\n",
      " \n",
      "172.30.0.47\n",
      "Apache/2.4.6 (CentOS) OpenSSL/1.0.2k-fips PHP/5.6.40\n",
      "UTF-8\n",
      "text/html; charset=UTF-8\n",
      " \n",
      "104.130.33.5\n",
      "nginx/1.14.0\n",
      "ISO-8859-1\n",
      "text/html\n",
      " \n"
     ]
    }
   ],
   "source": [
    "sitios = [\"www.udea.edu.co\",\"www.google.com\",\"www.itm.edu.co\",\"www.elcolombiano.co\"]\n",
    "for sitio in sitios:\n",
    "    req=Requester(sitio)\n",
    "    Requester.showInfo(req)"
   ]
  },
  {
   "cell_type": "code",
   "execution_count": null,
   "metadata": {},
   "outputs": [],
   "source": []
  }
 ],
 "metadata": {
  "kernelspec": {
   "display_name": "Python 3",
   "language": "python",
   "name": "python3"
  },
  "language_info": {
   "codemirror_mode": {
    "name": "ipython",
    "version": 3
   },
   "file_extension": ".py",
   "mimetype": "text/x-python",
   "name": "python",
   "nbconvert_exporter": "python",
   "pygments_lexer": "ipython3",
   "version": "3.7.1"
  }
 },
 "nbformat": 4,
 "nbformat_minor": 2
}
