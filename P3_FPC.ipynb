{
 "cells": [
  {
   "cell_type": "markdown",
   "metadata": {},
   "source": [
    "2.Dado un string que contiene números enteros separados por espacio. Determine los números\n",
    "de la lista que son números “palíndromos”"
   ]
  },
  {
   "cell_type": "code",
   "execution_count": 2,
   "metadata": {},
   "outputs": [
    {
     "name": "stdout",
     "output_type": "stream",
     "text": [
      "[[1, 6, 11, 22, 99, 101, 333]]\n"
     ]
    }
   ],
   "source": [
    "from operator import add\n",
    "from functools import reduce \n",
    "\n",
    "lista = \"1 6 11 12 17 22 99 101 122 333\"\n",
    "lista2=list(map(int,filter(bool, lista.split(\" \"))))\n",
    "K=[list(filter(lambda x: (x > -1 and x < 10) or ((x > 9 and x < 100) and(not(x%11)) or ((x > 99 and x < 1000)and(x%10==int(x/100))) ), lista2))]\n",
    "print(K)"
   ]
  },
  {
   "cell_type": "markdown",
   "metadata": {},
   "source": [
    "3.Dada la siguiente lista de strings cuente cuántas veces se repite la palabra “Python” en toda la lista."
   ]
  },
  {
   "cell_type": "code",
   "execution_count": 9,
   "metadata": {},
   "outputs": [
    {
     "name": "stdout",
     "output_type": "stream",
     "text": [
      "La Palabra Python se repite 5 veces\n"
     ]
    }
   ],
   "source": [
    "from operator import add\n",
    "from functools import reduce \n",
    "leesta = [\"We are learning Python\", \"Functional programming in Python\",\"What are this Python functions for?\",\"Do we really need Python?\",\"Python rulez!\"]\n",
    "suma = str(reduce((lambda a, x: a + x),leesta)).count(\"Python\")\n",
    "print(\"La Palabra Python se repite \"+str(suma)+\" veces\")"
   ]
  },
  {
   "cell_type": "markdown",
   "metadata": {},
   "source": [
    "4.¿Cuál es la suma de los primeros 50 números positivos cuyo cuadrado es divisible por 5?"
   ]
  },
  {
   "cell_type": "code",
   "execution_count": 10,
   "metadata": {},
   "outputs": [
    {
     "name": "stdout",
     "output_type": "stream",
     "text": [
      "[0, 5, 10, 15, 20, 25, 30, 35, 40, 45, 50, 55, 60, 65, 70, 75, 80, 85, 90, 95, 100, 105, 110, 115, 120, 125, 130, 135, 140, 145, 150, 155, 160, 165, 170, 175, 180, 185, 190, 195, 200, 205, 210, 215, 220, 225, 230, 235, 240, 245]\n"
     ]
    }
   ],
   "source": [
    "special_squares = list(filter(lambda x: not((x**2)%5) , list(map(lambda x: x, range(5*50)))))\n",
    "print(special_squares)"
   ]
  },
  {
   "cell_type": "code",
   "execution_count": null,
   "metadata": {},
   "outputs": [],
   "source": []
  }
 ],
 "metadata": {
  "kernelspec": {
   "display_name": "Python 3",
   "language": "python",
   "name": "python3"
  },
  "language_info": {
   "codemirror_mode": {
    "name": "ipython",
    "version": 3
   },
   "file_extension": ".py",
   "mimetype": "text/x-python",
   "name": "python",
   "nbconvert_exporter": "python",
   "pygments_lexer": "ipython3",
   "version": "3.7.3"
  }
 },
 "nbformat": 4,
 "nbformat_minor": 2
}
