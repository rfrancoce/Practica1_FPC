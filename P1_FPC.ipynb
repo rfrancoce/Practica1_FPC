{
 "cells": [
  {
   "cell_type": "markdown",
   "metadata": {},
   "source": [
    "1. Diseñe una función  que recibe como parámetro de entrada un string que solo solo contiene letras, tanto tanto mayúsculas como minúsculas (sinespacios) mezcladas indistintamente.Su función función debe debe invertir el orden de los caracteres y además los que están en minúscula debe convertirlos en mayúscula y viceversa. Acompañe la función de una interfaz de usuario usuario por consola."
   ]
  },
  {
   "cell_type": "code",
   "execution_count": 2,
   "metadata": {},
   "outputs": [],
   "source": [
    "def revstr (text):\n",
    "    texti=''\n",
    "    for i in text:\n",
    "        if(i==i.lower()):\n",
    "            i=i.upper()\n",
    "        else:\n",
    "            i=i.lower()\n",
    "        texti=i+texti\n",
    "    return texti"
   ]
  },
  {
   "cell_type": "code",
   "execution_count": 3,
   "metadata": {},
   "outputs": [
    {
     "name": "stdout",
     "output_type": "stream",
     "text": [
      "Ingrese Un String: HolAMuNDo\n",
      "El Resultado es: OdnUmaLOh\n"
     ]
    }
   ],
   "source": [
    "text= input('Ingrese Un String: ')\n",
    "print('El Resultado es: '+revstr(text))"
   ]
  },
  {
   "cell_type": "markdown",
   "metadata": {},
   "source": [
    "2. Diseñe una pequeña función que reciba una lista de caracteres como parametro de entrada. Dicha funcion debe contar el número de ocurrencias de los caracteres que hayaen la lista y debe retornar un diccionario cuyos elementos estén definidos de la forma de la clave del elemento sea el caracter y el valor del elemento sea el número de ocurrencias de ese caracter en la lista"
   ]
  },
  {
   "cell_type": "code",
   "execution_count": 4,
   "metadata": {},
   "outputs": [],
   "source": [
    "def countstr (an_text):\n",
    "    if not(an_text==''):\n",
    "        c=an_text[0]\n",
    "        d={c:an_text.count(c)}\n",
    "        for c in an_text:\n",
    "            if not(c in d):\n",
    "                d[c]=an_text.count(c)   \n",
    "        print_d(d)\n",
    "    else:\n",
    "        return 'Error: Campo vacío, ingrese un string'\n",
    "\n",
    "def print_d(d):\n",
    "    print('==========================')\n",
    "    print('= Caracter = Ocurrencias =')\n",
    "    print('==========================')\n",
    "    for i in d:\n",
    "        print('=    '+str(i)+'     =      '+str(d[i])+'      =')\n",
    "    print('==========================')\n",
    "        "
   ]
  },
  {
   "cell_type": "code",
   "execution_count": 5,
   "metadata": {},
   "outputs": [
    {
     "name": "stdout",
     "output_type": "stream",
     "text": [
      "==========================\n",
      "= Caracter = Ocurrencias =\n",
      "==========================\n",
      "=    a     =      2      =\n",
      "=    1     =      1      =\n",
      "=    2     =      1      =\n",
      "=    3     =      1      =\n",
      "=    4     =      1      =\n",
      "=    5     =      3      =\n",
      "=    b     =      1      =\n",
      "==========================\n"
     ]
    }
   ],
   "source": [
    "an_text= ['a',1,2,3,4,5,5,5,'b','a']\n",
    "countstr(an_text)"
   ]
  },
  {
   "cell_type": "markdown",
   "metadata": {},
   "source": [
    "3. Diseñe una función que recibe un string como parámetro de entrada. El estring tiene como caracteristica particular que tiene caracteres especiales. Su función debe invertir el orden de los caracteres, a excepcion de los caracteres especiales, estos deben conservar su posición original"
   ]
  },
  {
   "cell_type": "code",
   "execution_count": 6,
   "metadata": {},
   "outputs": [],
   "source": [
    "def is_char(t):\n",
    "    if( t>='0' and t<='9' or t>='A' and t<='Z' or  t>='a' and t<='z'):\n",
    "        return 1\n",
    "    else:\n",
    "        return 0\n",
    "\n",
    "def revstr2(text1):\n",
    "    ltext=[] #lista de caracteres normales\n",
    "    newText={} #Diccionario para almacenamiento de nuevo texto\n",
    "    pos=0; #Indice\n",
    "    for i in text1:\n",
    "        if is_char(i):\n",
    "            ltext.append(i) #llenado de lista con caracteres normales\n",
    "            newText[pos]=None\n",
    "        else:\n",
    "            newText[pos]=i #llenado de diccionario con caracteres especiales en posicion original\n",
    "        pos +=1\n",
    "        \n",
    "    nc=len(newText)\n",
    "    pc=0\n",
    "    for j in range(nc): #Trocamiento de caracteres normales\n",
    "        if newText[nc-1-j] is None:\n",
    "            newText[nc-1-j]= ltext[pc]\n",
    "            pc +=1\n",
    "    t=''        \n",
    "    for k in newText: #Creación de nuevo string \n",
    "        t=t+str(newText[k])\n",
    "      \n",
    "    \n",
    "    return t"
   ]
  },
  {
   "cell_type": "code",
   "execution_count": 7,
   "metadata": {},
   "outputs": [
    {
     "name": "stdout",
     "output_type": "stream",
     "text": [
      "53#efs#$%Waa#\n"
     ]
    }
   ],
   "source": [
    "a=revstr2('aa#Wsf#$%e35#')\n",
    "print(a)"
   ]
  },
  {
   "cell_type": "code",
   "execution_count": null,
   "metadata": {},
   "outputs": [],
   "source": []
  }
 ],
 "metadata": {
  "kernelspec": {
   "display_name": "Python 3",
   "language": "python",
   "name": "python3"
  }
 },
 "nbformat": 4,
 "nbformat_minor": 2
}
